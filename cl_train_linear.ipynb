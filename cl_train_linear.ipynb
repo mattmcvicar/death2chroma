{
 "metadata": {
  "name": "ChromaLuma - training"
 },
 "nbformat": 3,
 "nbformat_minor": 0,
 "worksheets": [
  {
   "cells": [
    {
     "cell_type": "code",
     "collapsed": false,
     "input": [
      "import sklearn\n",
      "import sklearn.cross_validation\n",
      "import sklearn.linear_model\n",
      "import cPickle as pickle\n",
      "import numpy as np\n",
      "import glob\n",
      "import os"
     ],
     "language": "python",
     "metadata": {},
     "outputs": [],
     "prompt_number": 153
    },
    {
     "cell_type": "code",
     "collapsed": false,
     "input": [
      "# Set the RNG for reproducibility\n",
      "SEED = hash('yodawg')"
     ],
     "language": "python",
     "metadata": {},
     "outputs": [],
     "prompt_number": 28
    },
    {
     "cell_type": "heading",
     "level": 1,
     "metadata": {},
     "source": [
      "Training - beat-level independent classifier"
     ]
    },
    {
     "cell_type": "code",
     "collapsed": false,
     "input": [
      "def filtered_stratified_split(ids, splitter, Y, **kwargs):\n",
      "    '''Cross-validation split filtration. Ensures that points of the same meta-id end up on the same side of the split\n",
      "\n",
      "    input:\n",
      "\n",
      "        ids:         n-by-1 mapping of data points to meta-id\n",
      "        splitter:    handle to the cross-validation class (eg, StratifiedShuffleSplit)\n",
      "        Y:           n-by-1 vector of class labels\n",
      "        **kwargs:    arguments to the cross-validation class\n",
      "\n",
      "    yields:\n",
      "        (train, test) indices\n",
      "    '''\n",
      "    \n",
      "    n = len(Y)\n",
      "    \n",
      "    indices = ('indices' in kwargs) and (kwargs['indices'])   \n",
      "    \n",
      "    kwargs['indices'] = True\n",
      "    \n",
      "    def unfold(meta_ids, X_id, indices):\n",
      "        split_ids = []\n",
      "        for i in meta_ids:\n",
      "            split_ids.extend(X_id[i])\n",
      "        \n",
      "        split_ids = numpy.array(split_ids)\n",
      "        \n",
      "        if not indices:\n",
      "            z = numpy.zeros(n, dtype=bool)\n",
      "            z[split_ids] = True\n",
      "            return z\n",
      "    \n",
      "    # 1: make a new label vector Yid\n",
      "    X_id = []\n",
      "    Y_id = []\n",
      "    \n",
      "    last_id = None\n",
      "    for i in xrange(len(ids)):\n",
      "        if i > 0 and last_id == ids[i]:\n",
      "            X_id[-1].append(i)\n",
      "        else:\n",
      "            last_id = ids[i]\n",
      "            X_id.append([i])\n",
      "            Y_id.append(Y[i])\n",
      "            \n",
      "    # 2: CV split on Yid\n",
      "    splits = splitter(Y_id, **kwargs)\n",
      "    \n",
      "    # 3: Map CV indices back to Y space\n",
      "    for meta_train, meta_test in splits:\n",
      "        yield (unfold(meta_train, X_id, indices), \n",
      "               unfold(meta_test, X_id, indices))"
     ],
     "language": "python",
     "metadata": {},
     "outputs": []
    },
    {
     "cell_type": "code",
     "collapsed": false,
     "input": [
      "def load_songs(path, features='raw-compressed', labels='majmin'):\n",
      "    '''Load songs and labels'''\n",
      "    \n",
      "    feature_files = glob.glob('%s/*-%s.npy' % (path, features))\n",
      "    feature_files.sort()\n",
      "    \n",
      "    label_files   = glob.glob('%s/*-%s.npy' % (path, labels))\n",
      "    label_files.sort()\n",
      "    \n",
      "    assert(len(feature_files) == len(label_files))\n",
      "        \n",
      "    X       = []\n",
      "    Y       = []\n",
      "    song_id = []\n",
      "    names   = []\n",
      "    \n",
      "\n",
      "    for (i, (X_f, Y_f)) in enumerate(zip(feature_files, label_files)):\n",
      "        X_new, Y_new = np.load(X_f), np.load(Y_f)\n",
      "        \n",
      "        X.append(X_new)\n",
      "        Y.append(Y_new)\n",
      "            \n",
      "        song_id.append(i)\n",
      "        names.append(X_f)\n",
      "          \n",
      "    return song_id, names, X, Y"
     ],
     "language": "python",
     "metadata": {},
     "outputs": [],
     "prompt_number": 50
    },
    {
     "cell_type": "code",
     "collapsed": false,
     "input": [
      "def train(song_id, X, Y, n_iterations=5):\n",
      "    '''Train a multi-class logistic regression model'''\n",
      "    \n",
      "    # Merge the data\n",
      "    my_song_id = []\n",
      "    for i in range(len(Y)):\n",
      "        my_song_id.append(np.tile([song_id[i]], len(Y[i])))\n",
      "\n",
      "    # Stack all beats into one matrix\n",
      "    X = np.vstack(X)\n",
      "    \n",
      "    # Stack all labels into one vector\n",
      "    Y = np.concatenate(Y).astype(int)\n",
      "    \n",
      "    # Tile song ids into a vector\n",
      "    my_song_id = np.concatenate(my_song_id)\n",
      "    \n",
      "    \n",
      "    parameters_sgd = {'alpha': [1e-7, 1e-6, 1e-5, 1e-4, 1e-3, 1e-2, 1e-1],\n",
      "                      'class_weight': ['auto'], 'n_iter': [2], 'shuffle': [True]}\n",
      "    \n",
      "    splits = sklearn.cross_validation.KFold(len(Y), k=n_iterations, shuffle=True, random_state=SEED)\n",
      "    \n",
      "    h = sklearn.grid_search.GridSearchCV(\n",
      "                sklearn.linear_model.SGDClassifier(loss='log'),\n",
      "                parameters_sgd, n_jobs=4, cv=splits)\n",
      "    \n",
      "    h.fit(X, Y)\n",
      "    \n",
      "    return h.best_estimator_"
     ],
     "language": "python",
     "metadata": {},
     "outputs": [],
     "prompt_number": 132
    },
    {
     "cell_type": "code",
     "collapsed": false,
     "input": [
      "def analyze_labels(Y):\n",
      "    Y = np.concatenate(Y).astype(int)\n",
      "    print Y.min(), Y.max()\n",
      "    counts = np.zeros(Y.max()+1, dtype=int)\n",
      "    \n",
      "    for lab in Y:\n",
      "        counts[lab] = counts[lab] + 1\n",
      "        \n",
      "    figure()\n",
      "    bar(range(len(counts)), counts)\n",
      "    \n",
      "    print counts.min(), counts.max()"
     ],
     "language": "python",
     "metadata": {},
     "outputs": [],
     "prompt_number": 106
    },
    {
     "cell_type": "code",
     "collapsed": false,
     "input": [
      "song_id, names, X, Y = load_songs('/home/bmcfee/git/death2chroma/data/beatles/*', features='raw-compressed', labels='labels-minmaj')"
     ],
     "language": "python",
     "metadata": {},
     "outputs": [],
     "prompt_number": 133
    },
    {
     "cell_type": "code",
     "collapsed": false,
     "input": [
      "analyze_labels(Y)"
     ],
     "language": "python",
     "metadata": {},
     "outputs": [
      {
       "output_type": "stream",
       "stream": "stdout",
       "text": [
        "0 24\n",
        "235"
       ]
      },
      {
       "output_type": "stream",
       "stream": "stdout",
       "text": [
        " 8269\n"
       ]
      },
      {
       "output_type": "display_data",
       "png": "[encoded data removed]"
      },
      {
       "output_type": "stream",
       "stream": "stdout",
       "text": [
        "0 24\n",
        "235"
       ]
      },
      {
       "output_type": "stream",
       "stream": "stdout",
       "text": [
        " 8269\n"
       ]
      },
      {
       "output_type": "display_data",
       "png": "[encoded data removed]"
      }
     ],
     "prompt_number": 135
    },
    {
     "cell_type": "code",
     "collapsed": false,
     "input": [
      "frame_classifier = train(song_id, X, Y)"
     ],
     "language": "python",
     "metadata": {},
     "outputs": [],
     "prompt_number": 136
    },
    {
     "cell_type": "code",
     "collapsed": false,
     "input": [
      "with open('/home/bmcfee/git/death2chroma/data/frame_classifier_beatles.pickle', 'w') as f:\n",
      "    pickle.dump(frame_classifier, f, protocol=-1)"
     ],
     "language": "python",
     "metadata": {},
     "outputs": [],
     "prompt_number": 137
    },
    {
     "cell_type": "code",
     "collapsed": false,
     "input": [
      "imshow(frame_classifier.coef_, aspect='auto', origin='lower', interpolation='nearest')"
     ],
     "language": "python",
     "metadata": {},
     "outputs": [
      {
       "output_type": "pyout",
       "prompt_number": 138,
       "text": [
        "<matplotlib.image.AxesImage at 0x7f179b396f90>"
       ]
      },
      {
       "output_type": "display_data",
       "png": "[encoded data removed]"
      }
     ],
     "prompt_number": 138
    },
    {
     "cell_type": "heading",
     "level": 1,
     "metadata": {},
     "source": [
      "Prediction"
     ]
    },
    {
     "cell_type": "code",
     "collapsed": false,
     "input": [
      "def output_predicted_labels(path, names, beats, Ypred, ext='prediction'):\n",
      "    \n",
      "    for (song_i, beats_i, Ypred_i) in zip(names, beats, Ypred):\n",
      "        song_i = song_i[:song_i.index('.npy')]\n",
      "        outfile = '%s/%s-%s.npy' % (path, os.path.basename(song_i), ext)\n",
      "        np.save(outfile, zip(beats_i, Ypred_i))\n",
      "        pass\n",
      "    pass"
     ],
     "language": "python",
     "metadata": {},
     "outputs": [],
     "prompt_number": 161
    },
    {
     "cell_type": "code",
     "collapsed": false,
     "input": [
      "# Reload the classifier\n",
      "with open('/home/bmcfee/git/death2chroma/data/frame_classifier_beatles.pickle', 'r') as f:\n",
      "    frame_classifier = pickle.load(f)"
     ],
     "language": "python",
     "metadata": {},
     "outputs": [],
     "prompt_number": 139
    },
    {
     "cell_type": "code",
     "collapsed": false,
     "input": [
      "# Load the test data\n",
      "_, names, X, beats = load_songs('/home/bmcfee/git/death2chroma/data/beatles/*', features='raw-compressed', labels='beats')"
     ],
     "language": "python",
     "metadata": {},
     "outputs": [],
     "prompt_number": 140
    },
    {
     "cell_type": "code",
     "collapsed": false,
     "input": [
      "Ypred = map(lambda z: frame_classifier.predict(z), X)"
     ],
     "language": "python",
     "metadata": {},
     "outputs": [],
     "prompt_number": 141
    },
    {
     "cell_type": "code",
     "collapsed": false,
     "input": [
      "output_predicted_labels('/home/bmcfee/git/death2chroma/data/predictions/', names, beats, Ypred, ext='prediction-linear')"
     ],
     "language": "python",
     "metadata": {},
     "outputs": [],
     "prompt_number": 163
    }
   ],
   "metadata": {}
  }
 ]
}